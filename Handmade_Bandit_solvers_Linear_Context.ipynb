{
  "nbformat": 4,
  "nbformat_minor": 0,
  "metadata": {
    "colab": {
      "name": "Handmade Bandit solvers - Linear Context",
      "provenance": [],
      "collapsed_sections": [],
      "authorship_tag": "ABX9TyMyeqmwJV1YcCQerIfoFpkL",
      "include_colab_link": true
    },
    "kernelspec": {
      "name": "python3",
      "display_name": "Python 3"
    }
  },
  "cells": [
    {
      "cell_type": "markdown",
      "metadata": {
        "id": "view-in-github",
        "colab_type": "text"
      },
      "source": [
        "<a href=\"https://colab.research.google.com/github/wooohoooo/Thompson-Sampling-Examples/blob/master/Handmade_Bandit_solvers_Linear_Context.ipynb\" target=\"_parent\"><img src=\"https://colab.research.google.com/assets/colab-badge.svg\" alt=\"Open In Colab\"/></a>"
      ]
    },
    {
      "cell_type": "markdown",
      "metadata": {
        "id": "17fJ8EHsYx7E",
        "colab_type": "text"
      },
      "source": [
        "# Intro\n",
        "\n",
        "This notebook continues the series about multi-armed bandit (MAB) solutions.\n",
        "This time we will look at MAB with linear contexts. To understand this, you should at least have an understanding of non-contextual Thompson Sampling, as presented e.g. here [link other notebook].\n",
        "\n",
        "Like in the previous post, we will first look at the problem at hand and how we can emulate a an environment that can benefit from a contextual MAB solver.\n",
        "In the previous entry, we looked into the problem of how to find out which arm is better, such as whether a red button or a blue button is likely to generate more traffic to our website, or whether Neo is more likely to choose the red or the blue pill so we can hide the tracer inside (I rewatched the move in the mean time and am now more up to date).\n",
        "\n",
        "This time, we will add context to the decision, this could be the users age, the users gender, the users education, any other information about the user or any combination thereof. In general, we want to use all the information available to us to make sure our decision is well informed; but in this case we will go for a context of two variables to make sure we can visualize it nicely. \n",
        "In our case, it will be the age of the user and whether he has a dog or not; because with age their eyesight grows worse so they don't see th button as well, but people with a dog are more trained to spot small things so less so for them. All correlations in this example are (obviously) completely made up.\n",
        "\n",
        "![alt](https://live.staticflickr.com/2655/3933458622_3d0956e72d_b.jpg)\n",
        "(I couldn't find an image of a dog as bandit, so this pawrate will have to be enought)\n",
        "\n",
        "\n",
        "As we learned last time, in order to use Thompson Sampling, we need distributions over the expected outcome of each arm; while we were using simple beta binomials for the non-contextual case, now we will be using Normal Distributions. Since we also want to include context, we need a way of generating these distributions from a model that incorporates this context. \n",
        "For this simple notebook, we will walk through a contextual example using a normal distribution derived via Bayesian Linear Regression. More complex solutions exist, notably one introduced in this paper: ![TS with Online Bootstrap](https://arxiv.org/abs/1410.4009).\n",
        "\n",
        "Again, this is aimed at application designers rather than students of th mathematicl descriptions behind Thompson Sampling. A primer and possibly a deeper explanation on these topics migh follow in the future. \n",
        "\n",
        "But let's take a step back and look at the problem we're trying to solve.\n",
        "\n",
        "\n",
        "\n",
        "\n"
      ]
    },
    {
      "cell_type": "markdown",
      "metadata": {
        "id": "EsvaTu2s9Le2",
        "colab_type": "text"
      },
      "source": [
        "# getting ready "
      ]
    },
    {
      "cell_type": "code",
      "metadata": {
        "id": "7e8Go4V_-hoQ",
        "colab_type": "code",
        "colab": {}
      },
      "source": [
        "#maths\n",
        "import numpy as np\n",
        "import scipy.stats as stats\n",
        "from sklearn.utils import shuffle\n",
        "\n",
        "np.random.seed(42)"
      ],
      "execution_count": 0,
      "outputs": []
    },
    {
      "cell_type": "code",
      "metadata": {
        "id": "aHCx5K4gmqU1",
        "colab_type": "code",
        "colab": {}
      },
      "source": [
        "#pretty things\n",
        "\n",
        "matplotlib_style = 'seaborn-notebook' #@param ['fivethirtyeight', 'bmh', 'ggplot', 'seaborn', 'default', 'Solarize_Light2', 'classic', 'dark_background', 'seaborn-colorblind', 'seaborn-notebook']\n",
        "import matplotlib.pyplot as plt; plt.style.use(matplotlib_style)\n",
        "import matplotlib.axes as axes;\n",
        "from matplotlib.patches import Ellipse\n",
        "import matplotlib.cm as cm\n",
        "\n",
        "%matplotlib inline\n",
        "import seaborn as sns; sns.set_context('notebook')\n",
        "from IPython.core.pylabtools import figsize\n",
        "#@markdown This sets the resolution of the plot outputs (`retina` is the highest resolution)\n",
        "notebook_screen_res = 'retina' #@param ['retina', 'png', 'jpeg', 'svg', 'pdf']\n",
        "%config InlineBackend.figure_format = notebook_screen_res\n",
        "\n",
        "width = \"16\" #@param [16,8,25]\n",
        "height = \"4.5\" #@param [4.5, 9,16,8,25]\n",
        "width = int(width)\n",
        "height = float(height)\n",
        "\n",
        "\n",
        "plt.rcParams['figure.figsize'] = width,height\n"
      ],
      "execution_count": 0,
      "outputs": []
    },
    {
      "cell_type": "code",
      "metadata": {
        "id": "JrpCXA3QlvD_",
        "colab_type": "code",
        "colab": {}
      },
      "source": [
        "#set some parameters\n",
        "\n",
        "# number of features\n",
        "num_features = \"1\" #@param [1, 2,3,50]\n",
        "num_features = int(num_features)\n",
        "\n",
        "# data size\n",
        "num_data = \"100\" #@param[25,100]\n",
        "num_data = int(num_data)\n",
        "\n",
        "\n",
        "# slopes of reward depending for arm 1 and arm 2\n",
        "theta1 = 2\n",
        "theta2 = 10\n",
        "theta = [int(theta1), int(theta2)]\n",
        "\n",
        "# noise in the data\n",
        "noise = \"5\" #@param [1,5,10,100]\n",
        "noise = int(noise)\n",
        "\n",
        "\n",
        "# scale of uncertainty\n",
        "v = \"50\"#@param [1,10, 50, 100]\n",
        "\n",
        "v = int(v)\n"
      ],
      "execution_count": 0,
      "outputs": []
    },
    {
      "cell_type": "markdown",
      "metadata": {
        "id": "iJQo0jDBHhpb",
        "colab_type": "text"
      },
      "source": [
        "# What is a contextual multi armed bandit situation?\n",
        "\n",
        "The contextual multi armed bandit situation is similar to the one we encountered previously. We have a deicsion to make, and depending on that decision, we will get a reward. Not much new, so far. We want to know whether a dog on our website makes the user pay more for our product, think Humble Bundle.\n",
        "\n",
        "As we did last time, we have to define a 'user' that will react to the arms we play. And as last time, we do this via a function called 'customer_reaction'. \n",
        "\n",
        "However, this time we have have some information about the user, formally known as context. In this case, it is the users age (1). We think that depending on how old the users are, they will react DIFFERENTLY to whether a dog is present or not. Here it is 'the older you are, the more you spending increases when you see a dog', meaning showing people a dog is the best decision above a certain age; below that age we're more likely to receive more money if we DO NOT SHOW A DOG.\n",
        "\n",
        "\n",
        "This we'll model as a linear slope with \n",
        "\n",
        "$y = x \\cdot m + t + \\epsilon $\n",
        "\n",
        "where \n",
        "$y$ is the target, i.e. how much the user spends\n",
        "\n",
        "$x$ is the context, i.e. the users age\n",
        "\n",
        "$m$ is a linear factor decided by whether a dog is present or not\n",
        "\n",
        "$t$ is the onset; in our case that is 0\n",
        "\n",
        "$\\epsilon$ is gaussian noise, since we're still in a probabilistic setting\n",
        "\n",
        "\n",
        " (1) the users age is between -10 and 10 in this case. If you have a problem with this... redo this notebook with more sensible numbers. Have fun! \n"
      ]
    },
    {
      "cell_type": "code",
      "metadata": {
        "id": "U-axyU4-9Xq2",
        "colab_type": "code",
        "colab": {}
      },
      "source": [
        "X_ = np.array([1,2,3])\n",
        "arm = np.array([1,2])\n",
        "\n",
        "num_arms = 1\n",
        "num_contexts = 1\n",
        "#num_data = 1000\n",
        "\n",
        "#create X\n",
        "X = np.zeros((num_data,num_contexts + num_arms))\n",
        "\n",
        "\n",
        "for i in range(num_contexts):\n",
        "    X[:,i] = np.linspace(-10,10,num_data).T\n",
        "    \n",
        "for i in range(num_arms):\n",
        "    X[:,i+num_contexts] = np.random.binomial(1,.6,num_data)\n",
        "X[:5,:]\n",
        "\n",
        "X = shuffle(X)\n",
        "\n",
        " "
      ],
      "execution_count": 0,
      "outputs": []
    },
    {
      "cell_type": "code",
      "metadata": {
        "id": "aFYsE5vfBRR9",
        "colab_type": "code",
        "colab": {}
      },
      "source": [
        ""
      ],
      "execution_count": 0,
      "outputs": []
    },
    {
      "cell_type": "code",
      "metadata": {
        "id": "2cjexYBnAlFs",
        "colab_type": "code",
        "colab": {}
      },
      "source": [
        "def customer_reaction(context, choice, theta = theta, noise=noise):\n",
        "  features  = np.append(context,choice)\n",
        "\n",
        "\n",
        "  # decide on which slope to use depending on whether a dog is present or not\n",
        "  m = theta[0] if features[1] else theta[1]\n",
        "\n",
        "  # $y = x \\cdot m + t + \\epsilon $\n",
        "  y = features[0] * m + np.random.normal(0,noise)\n",
        "\n",
        "\n",
        "  return y\n"
      ],
      "execution_count": 0,
      "outputs": []
    },
    {
      "cell_type": "code",
      "metadata": {
        "id": "bARSjBzdBhun",
        "colab_type": "code",
        "colab": {
          "base_uri": "https://localhost:8080/",
          "height": 34
        },
        "outputId": "39701c16-4099-46fa-a77a-dc97c6a61205"
      },
      "source": [
        "customer_reaction([9.0],1)"
      ],
      "execution_count": 6,
      "outputs": [
        {
          "output_type": "execute_result",
          "data": {
            "text/plain": [
              "17.282688851846554"
            ]
          },
          "metadata": {
            "tags": []
          },
          "execution_count": 6
        }
      ]
    },
    {
      "cell_type": "code",
      "metadata": {
        "id": "lS70JUeCDdc9",
        "colab_type": "code",
        "colab": {
          "base_uri": "https://localhost:8080/",
          "height": 34
        },
        "outputId": "3438b618-44d0-4736-96e7-1f9b3ee29cd4"
      },
      "source": [
        "customer_reaction([9.0],0)"
      ],
      "execution_count": 7,
      "outputs": [
        {
          "output_type": "execute_result",
          "data": {
            "text/plain": [
              "93.08501887857565"
            ]
          },
          "metadata": {
            "tags": []
          },
          "execution_count": 7
        }
      ]
    },
    {
      "cell_type": "code",
      "metadata": {
        "id": "-Gu2I1IBDiTH",
        "colab_type": "code",
        "colab": {}
      },
      "source": [
        "\n",
        "y = []\n",
        "for i in range(num_data):\n",
        "  context = X[i][0]\n",
        "  choice = X[i][1]\n",
        "  outcome = customer_reaction(context,choice)\n",
        "  y.append(outcome)\n",
        "\n",
        "y = np.array(y).flatten()\n"
      ],
      "execution_count": 0,
      "outputs": []
    },
    {
      "cell_type": "code",
      "metadata": {
        "id": "xJkOhMjnF6T0",
        "colab_type": "code",
        "colab": {
          "base_uri": "https://localhost:8080/",
          "height": 316
        },
        "outputId": "75f43d94-de9f-4146-991e-9c665a20c96b"
      },
      "source": [
        "index = X[:,1] == True\n",
        "\n",
        "plt.scatter(X[:,0][index],y[index],label='with dog',c='red')\n",
        "plt.scatter(X[:,0][~index],y[~index],label='without dog',c='black')\n",
        "plt.legend()"
      ],
      "execution_count": 9,
      "outputs": [
        {
          "output_type": "execute_result",
          "data": {
            "text/plain": [
              "<matplotlib.legend.Legend at 0x7f67f22e3b70>"
            ]
          },
          "metadata": {
            "tags": []
          },
          "execution_count": 9
        },
        {
          "output_type": "display_data",
          "data": {
            "image/png": "[encoded data removed]",
            "text/plain": [
              "<Figure size 1152x324 with 1 Axes>"
            ]
          },
          "metadata": {
            "tags": [],
            "image/png": {
              "width": 950,
              "height": 282
            }
          }
        }
      ]
    },
    {
      "cell_type": "markdown",
      "metadata": {
        "id": "Dkz-UwI0K4AP",
        "colab_type": "text"
      },
      "source": [
        "# Now that we have defined the Problem, let's solve it!\n",
        "\n",
        "Remember the simple API we defined last time. We will reuse it.\n",
        "We will implement a way of choosing an arm to play according to some policy, and we will implement a way of updating the policy with the observations. Note that this time, we add context to bith methods.\n",
        "\n",
        "\n"
      ]
    },
    {
      "cell_type": "code",
      "metadata": {
        "id": "DPD4dW_LLcHs",
        "colab_type": "code",
        "colab": {}
      },
      "source": [
        "class AbstractContextualSolver(object):\n",
        "  def __init__(self, model):\n",
        "    self.model = model\n",
        "\n",
        "\n",
        "  def choose_arm(self,context):\n",
        "    \"\"\"choose an arm to play according to internal policy\"\"\"\n",
        "    raise NotImplementedError\n",
        "        \n",
        "  def update(self, arm, context, reward):\n",
        "    \"\"\" update internal policy to reflect changed knowledge\"\"\"\n",
        "    raise NotImplementedError"
      ],
      "execution_count": 0,
      "outputs": []
    },
    {
      "cell_type": "code",
      "metadata": {
        "id": "DSdRmXDxLcyk",
        "colab_type": "code",
        "colab": {}
      },
      "source": [
        "class LinearThompsonSampler(AbstractContextualSolver):\n",
        "\n",
        "  def choose_arm(self,context):\n",
        "    reward_list = []\n",
        "\n",
        "    for i in range(len(self.arms)):\n",
        "        mu, std = self.model.get_mean_std()\n",
        "\n",
        "        dist = stats.multivariate_normal\n",
        "\n",
        "        sample_slope = np.atleast_2d(dist.rvs(mean=mu_t.flatten(),cov=self.model.v**2*B_inv))\n",
        "        print(sample_slope)\n",
        "\n",
        "        reward = np.dot(b.T,sample_slope.T)\n",
        "        reward = sample_slope\n",
        "        reward_list += [reward]\n",
        "    return np.argmax(reward_list)\n",
        "\n",
        "  def update(self,arm,context,reward):\n",
        "    self.model.update(arm,context,reward)"
      ],
      "execution_count": 0,
      "outputs": []
    },
    {
      "cell_type": "code",
      "metadata": {
        "id": "MlV1X3bqSZ_Q",
        "colab_type": "code",
        "colab": {}
      },
      "source": [
        "class BayesLinReg(object):\n",
        "\n",
        "  def __init__(self, num_features=1,v=v):\n",
        "    self.B = np.eye(num_features+1)\n",
        "    self.Binv = np.linalg.inv(self.B)\n",
        "    self.f = np.atleast_2d(np.zeros(num_features+1))\n",
        "    self.v = v\n",
        "\n",
        "    self.mu = np.zeros(num_features+1)\n",
        "\n",
        "  def add_intercept(self,X):\n",
        "    X_new = np.atleast_2d(np.insert(np.atleast_2d(X),0,1))\n",
        "    return X_new.T\n",
        "\n",
        "\n",
        "  def observe(self,x,y):\n",
        "    y = np.atleast_2d(y)\n",
        "    x = self.add_intercept(x)\n",
        "    self.B += np.outer(x,x)\n",
        "    self.f += np.dot(x,y).T\n",
        "\n",
        "\n",
        "  def get_mean_std(self):\n",
        "      B_inv = np.linalg.inv(self.B)\n",
        "      mu_t = B_inv.dot(self.f.T)\n",
        "\n",
        "      return mu_t, B_inv\n",
        "\n",
        "      \n",
        "\n",
        "#helpers\n",
        "  def train(self,X,y,shuffle = True):\n",
        "      index = list(range(X.shape[0]))\n",
        "      if shuffle ==True:\n",
        "          np.random.shuffle(index)\n",
        "      for i in index:\n",
        "          self.observe(X[i],y[i]) \n",
        "          \n",
        "\n",
        "      \n",
        "  def predict_ML(self,X):\n",
        "      beta= np.linalg.inv(self.B).dot(self.f.T)\n",
        "\n",
        "      y = []\n",
        "      try:\n",
        "          for i in range(len(X)):\n",
        "              x = X[i]\n",
        "              y += [self.predict_ML_x(x)]\n",
        "              return y\n",
        "      except:\n",
        "          X = self.add_intercept(X)\n",
        "          return X.T.dot(beta)\n",
        "          \n",
        "\n",
        "\n",
        "\n",
        "\n",
        "  def predict_ML_x(self,x):\n",
        "      beta = np.linalg.inv(self.B).dot(self.f.T)\n",
        "      x = self.add_intercept(x)\n",
        "      return x.T.dot(beta)[0][0]\n",
        "\n",
        "  def draw(self):\n",
        "      B_inv = np.linalg.inv(self.B)\n",
        "      mu_t = B_inv.dot(self.f.T)\n",
        "      dist = stats.multivariate_normal\n",
        "      return dist.rvs(mean=mu_t.flatten(),cov=self.v**2*B_inv)   "
      ],
      "execution_count": 0,
      "outputs": []
    },
    {
      "cell_type": "code",
      "metadata": {
        "id": "XTrzQmlcUtXw",
        "colab_type": "code",
        "colab": {}
      },
      "source": [
        "bl = BayesLinReg()\n",
        "bl.train(X[:,0][index],y[index])\n"
      ],
      "execution_count": 0,
      "outputs": []
    },
    {
      "cell_type": "code",
      "metadata": {
        "id": "vo0_vJwJfLss",
        "colab_type": "code",
        "colab": {}
      },
      "source": [
        "bl.train(X[:,0][index],y[index])\n"
      ],
      "execution_count": 0,
      "outputs": []
    },
    {
      "cell_type": "code",
      "metadata": {
        "id": "wRvIlc_wUx8W",
        "colab_type": "code",
        "colab": {
          "base_uri": "https://localhost:8080/",
          "height": 316
        },
        "outputId": "7bf390f8-0ada-4712-c46e-c1a5297ee8c8"
      },
      "source": [
        "draw_list = []\n",
        "\n",
        "\n",
        "num_draws = 10\n",
        "#plt.scatter(X,y)\n",
        "\n",
        "#plt.plot(X,regr.predict(X),label = 'ols',alpha=.3)\n",
        "#plt.scatter(X,y_hat,color = 'r',label = 'ML')\n",
        "\n",
        "\n",
        "y_hat = []\n",
        "\n",
        "for i in range(len(X[index])):\n",
        "    y_hat += [bl.predict_ML_x(X[:,0][index][i])]\n",
        "\n",
        "y_hat = np.array(y_hat) \n",
        "\n",
        "plt.plot(X[:,0][index],y_hat,label='bandit')\n",
        "plt.scatter(X[:,0][index],y[index],label='stream')\n",
        "\n",
        "for i in range(num_draws-1):\n",
        "    w = bl.draw()\n",
        "    draw_list += [w]\n",
        "#plt.plot(X,X*w,label='draws')\n",
        "#draw = w.dot(test.add_intercept(X[1]))\n",
        "#draw_list +=[draw]\n",
        "\n",
        "    plt.plot(X,w[0]+w[1]*X,color = 'y',alpha=0.3)\n",
        "plt.plot(X,w[0]+w[1]*X,label='draw',color = 'y',alpha=0.3)\n",
        "\n",
        "plt.legend()"
      ],
      "execution_count": 15,
      "outputs": [
        {
          "output_type": "execute_result",
          "data": {
            "text/plain": [
              "<matplotlib.legend.Legend at 0x7f67ef597eb8>"
            ]
          },
          "metadata": {
            "tags": []
          },
          "execution_count": 15
        },
        {
          "output_type": "display_data",
          "data": {
            "image/png": "[encoded data removed]",
            "text/plain": [
              "<Figure size 1152x324 with 1 Axes>"
            ]
          },
          "metadata": {
            "tags": [],
            "image/png": {
              "width": 943,
              "height": 282
            }
          }
        }
      ]
    },
    {
      "cell_type": "markdown",
      "metadata": {
        "id": "QHF7gq6DMLpe",
        "colab_type": "text"
      },
      "source": [
        "But wait! \n",
        "We learned last time that in order to do thompson sampling, we need a distribution to draw from per arm we want to play; this distribution reflects the likelihood for the reward we're likely to receive. \n",
        "We also know that distributions usually don't use context; $ \\mathcal{N}(\\mu,\\sigma)$ relies only on the mean and the standard deviation of the data we have observed - but in our case, $\\mu$ changes rapidly with depending on whether a dog is present or not.\n",
        "What do we do?\n",
        "\n",
        "\n",
        "We become Bayesian, that's what we do. Honestly, that should always be the first thing you do when facing a problem.\n",
        "\n",
        "![alt](https://upload.wikimedia.org/wikipedia/commons/thumb/1/18/Bayes%27_Theorem_MMB_01.jpg/1200px-Bayes%27_Theorem_MMB_01.jpg)\n",
        "\n",
        "More specifically, we will use a technique known as bayesian linear regression, which you can read about more about [here](https://en.wikipedia.org/wiki/Bayesian_linear_regression) and [here](https://towardsdatascience.com/introduction-to-bayesian-linear-regression-e66e60791ea7). Let's meet again after you checked those out. \n",
        "\n",
        "\n",
        "\n",
        "Hi! So now that you read that, you know how Bayesian Linear Regression can be used to derive a normal distribution depending on a linear model that we can train to give us everything we need. \n",
        "Let's do that. \n",
        "\n"
      ]
    },
    {
      "cell_type": "code",
      "metadata": {
        "id": "XYcmECSAHe5I",
        "colab_type": "code",
        "colab": {}
      },
      "source": [
        ""
      ],
      "execution_count": 0,
      "outputs": []
    },
    {
      "cell_type": "code",
      "metadata": {
        "id": "-NN1nGoeHe2N",
        "colab_type": "code",
        "colab": {}
      },
      "source": [
        ""
      ],
      "execution_count": 0,
      "outputs": []
    },
    {
      "cell_type": "code",
      "metadata": {
        "id": "SZWxSUoLHevM",
        "colab_type": "code",
        "colab": {}
      },
      "source": [
        ""
      ],
      "execution_count": 0,
      "outputs": []
    },
    {
      "cell_type": "markdown",
      "metadata": {
        "id": "hjkp0InX9Okw",
        "colab_type": "text"
      },
      "source": [
        "# What is a multi armed bandit situation?\n",
        "\n",
        "In the multi armed bandit setting, we are tasked with finding the best performing action out of a selection of possible actions. An example could be the color of a button on a website. We could make it Blue or Yellow. Our theories are that Blue is easier to see but Yellow is a more inviting color. We now have to figure out which of these effects is stronger, i.e. which button color gets clicked more often(1).\n",
        "\n",
        "\n",
        "We do not know which theory is correct, and, unfortunately, we will never KNOW which button is better, since for that we'd need to know what would have happened if the users that saw yellow were presented with blue and vice versa, for all eternity. Maybe the users that saw it so far preferred yellow because it was summer. Or the background of an ad that popped up made it very hard to see the blue button. \n",
        "This is, in essence, what we refer to as the dilemma of 'Exploration vs Exploitation': Do we rely on the information we have available to make a decision or do we want to collect more data so that our future decisions will be a better informed one?\n",
        "\n",
        "![alt](http://www.primarydigit.com/uploads/2/0/1/6/20168087/2155136.png?387)\n",
        "\n",
        "In this Notebook, we want to look at a few possible solutions to this problem.\n",
        "\n",
        "\n",
        "# How do we test these approaches\n",
        "\n",
        "To do so, we need to simulate a situation in which a customer makes a choice we do not know up front, since we don't have actual customers to ask. To do that, we generate an 'average customer'. This average customer is going to react to the color of the button with probabilities proportional to how the real population MIGHT react (this is of course simulated). This value is stored in our variable 'Theta'; it reflects how likely the general population is to click on a blue vs a yellow button. We convert this probability to a reaction by sampling a number between 0 and 1 and comparing it to the theta value for that choice, see customer_reaction().\n",
        "\n",
        "\n",
        "\n",
        "\n",
        " (1) This is not a real life situation, in which we might take into account different additional parameters such as page background - which we'd optimally test, too."
      ]
    },
    {
      "cell_type": "code",
      "metadata": {
        "id": "s4k5Iq0i693e",
        "colab_type": "code",
        "colab": {}
      },
      "source": [
        "#convert arm to response depending on theta\n",
        "def customer_reaction(choice, theta=theta):\n",
        "\n",
        "    # draw a number between 0 and 1, if it's smaller than the theta, return reward\n",
        "    if np.random.random() < theta[choice]:\n",
        "        reaction = True\n",
        "    else:\n",
        "        reaction = False\n",
        "\n",
        "    return reaction"
      ],
      "execution_count": 0,
      "outputs": []
    },
    {
      "cell_type": "code",
      "metadata": {
        "id": "S5tYuuvMBKc8",
        "colab_type": "code",
        "outputId": "29d75389-de5f-4908-b757-7b3bb3be318c",
        "colab": {
          "base_uri": "https://localhost:8080/",
          "height": 34
        }
      },
      "source": [
        "customer_reaction(1)"
      ],
      "execution_count": 17,
      "outputs": [
        {
          "output_type": "execute_result",
          "data": {
            "text/plain": [
              "True"
            ]
          },
          "metadata": {
            "tags": []
          },
          "execution_count": 17
        }
      ]
    },
    {
      "cell_type": "code",
      "metadata": {
        "id": "M2AXxRyZ8X-e",
        "colab_type": "code",
        "outputId": "5b61115a-ff1a-4702-bb5a-b1a0137b0564",
        "colab": {
          "base_uri": "https://localhost:8080/",
          "height": 34
        }
      },
      "source": [
        "customer_reaction(0)"
      ],
      "execution_count": 18,
      "outputs": [
        {
          "output_type": "execute_result",
          "data": {
            "text/plain": [
              "True"
            ]
          },
          "metadata": {
            "tags": []
          },
          "execution_count": 18
        }
      ]
    },
    {
      "cell_type": "code",
      "metadata": {
        "id": "L35jBJ4v7OTp",
        "colab_type": "code",
        "outputId": "62470b2e-4708-49da-b7c7-4825172aecf3",
        "colab": {
          "base_uri": "https://localhost:8080/",
          "height": 232
        }
      },
      "source": [
        "\n",
        "if not use_random:\n",
        "  mean_0 = np.mean([customer_reaction(0) for i in range(10)])\n",
        "  mean_1 = np.mean([customer_reaction(1) for i in range(10)])\n",
        "  print(f'empirical mean for choice 0 is {mean_0} (real value {theta[0]}), is {mean_1} (real value {theta[1]}) for choice 1')\n",
        "\n"
      ],
      "execution_count": 19,
      "outputs": [
        {
          "output_type": "error",
          "ename": "NameError",
          "evalue": "ignored",
          "traceback": [
            "\u001b[0;31m---------------------------------------------------------------------------\u001b[0m",
            "\u001b[0;31mNameError\u001b[0m                                 Traceback (most recent call last)",
            "\u001b[0;32m<ipython-input-19-9b2dfbf64baa>\u001b[0m in \u001b[0;36m<module>\u001b[0;34m()\u001b[0m\n\u001b[1;32m      1\u001b[0m \u001b[0;34m\u001b[0m\u001b[0m\n\u001b[0;32m----> 2\u001b[0;31m \u001b[0;32mif\u001b[0m \u001b[0;32mnot\u001b[0m \u001b[0muse_random\u001b[0m\u001b[0;34m:\u001b[0m\u001b[0;34m\u001b[0m\u001b[0;34m\u001b[0m\u001b[0m\n\u001b[0m\u001b[1;32m      3\u001b[0m   \u001b[0mmean_0\u001b[0m \u001b[0;34m=\u001b[0m \u001b[0mnp\u001b[0m\u001b[0;34m.\u001b[0m\u001b[0mmean\u001b[0m\u001b[0;34m(\u001b[0m\u001b[0;34m[\u001b[0m\u001b[0mcustomer_reaction\u001b[0m\u001b[0;34m(\u001b[0m\u001b[0;36m0\u001b[0m\u001b[0;34m)\u001b[0m \u001b[0;32mfor\u001b[0m \u001b[0mi\u001b[0m \u001b[0;32min\u001b[0m \u001b[0mrange\u001b[0m\u001b[0;34m(\u001b[0m\u001b[0;36m10\u001b[0m\u001b[0;34m)\u001b[0m\u001b[0;34m]\u001b[0m\u001b[0;34m)\u001b[0m\u001b[0;34m\u001b[0m\u001b[0;34m\u001b[0m\u001b[0m\n\u001b[1;32m      4\u001b[0m   \u001b[0mmean_1\u001b[0m \u001b[0;34m=\u001b[0m \u001b[0mnp\u001b[0m\u001b[0;34m.\u001b[0m\u001b[0mmean\u001b[0m\u001b[0;34m(\u001b[0m\u001b[0;34m[\u001b[0m\u001b[0mcustomer_reaction\u001b[0m\u001b[0;34m(\u001b[0m\u001b[0;36m1\u001b[0m\u001b[0;34m)\u001b[0m \u001b[0;32mfor\u001b[0m \u001b[0mi\u001b[0m \u001b[0;32min\u001b[0m \u001b[0mrange\u001b[0m\u001b[0;34m(\u001b[0m\u001b[0;36m10\u001b[0m\u001b[0;34m)\u001b[0m\u001b[0;34m]\u001b[0m\u001b[0;34m)\u001b[0m\u001b[0;34m\u001b[0m\u001b[0;34m\u001b[0m\u001b[0m\n\u001b[1;32m      5\u001b[0m   \u001b[0mprint\u001b[0m\u001b[0;34m(\u001b[0m\u001b[0;34mf'empirical mean for choice 0 is {mean_0} (real value {theta[0]}), is {mean_1} (real value {theta[1]}) for choice 1'\u001b[0m\u001b[0;34m)\u001b[0m\u001b[0;34m\u001b[0m\u001b[0;34m\u001b[0m\u001b[0m\n",
            "\u001b[0;31mNameError\u001b[0m: name 'use_random' is not defined"
          ]
        }
      ]
    },
    {
      "cell_type": "markdown",
      "metadata": {
        "id": "HFkabwh80BuY",
        "colab_type": "text"
      },
      "source": [
        "The second thing we need to do in order to compare different approaches to solving the MAB problem is introduce a measure for the performance of different algorithms on "
      ]
    },
    {
      "cell_type": "code",
      "metadata": {
        "id": "yzwrSXiYNvNG",
        "colab_type": "code",
        "colab": {}
      },
      "source": [
        ""
      ],
      "execution_count": 0,
      "outputs": []
    },
    {
      "cell_type": "markdown",
      "metadata": {
        "id": "vErARX61EKcf",
        "colab_type": "text"
      },
      "source": [
        "# Now that the problem is defined, let's solve it\n",
        "\n",
        "I will introduce two approaches, A/B testing and Thompson Sampling in detail and mention two others, epsilpon greedy and UCB, in passing.\n",
        "But first, let's quickly introduce our general strategy:\n",
        "\n",
        "## Abstract solution to Bandit Problems\n",
        "\n",
        "In order to solve the problem posed above, we devise a simple black box strategy: \n",
        "We will build a system that chooses an arm (in our example, blue or yellow button) by some policy  and updates that policy based on what it observes (in our example: did the user click). This policy will be chosen to solve our exploration vs exploitation dilemma in some way.\n",
        "\n",
        "Note that this is very general. On the one hand, this approach can house an ideterminate number of policies such as A/B testing, Thompson Sampler, ... ; on the other hand, this can be extended to many other problems solvable with reinforcement learning. \n",
        "\n",
        "Again, all we do in MAB problems is choose an action that seems favorable given an internal policy and update that policy given the reward our action produced.\n",
        "\n",
        "\n"
      ]
    },
    {
      "cell_type": "code",
      "metadata": {
        "id": "FQkVhCVs8Vz8",
        "colab_type": "code",
        "colab": {}
      },
      "source": [
        "class AbstractSolver(object):\n",
        "    def choose_arm(self):\n",
        "        \"\"\"choose an arm to play according to internal policy\"\"\"\n",
        "        raise NotImplementedError\n",
        "        \n",
        "    def update(self, arm, reward):\n",
        "        \"\"\" update internal policy to reflect changed knowledge\"\"\"\n",
        "        raise NotImplementedError\n"
      ],
      "execution_count": 0,
      "outputs": []
    },
    {
      "cell_type": "markdown",
      "metadata": {
        "id": "7thmH9ktISsR",
        "colab_type": "text"
      },
      "source": [
        "\n",
        "## A/B Test\n",
        "A/B tests are the current standard for solving multi armed bandit dilemmas. They are being used in all kinds of situations and are very closely related to the gold standard of scientific experimentation.\n",
        "The concept is simple and clear:\n",
        "\n",
        "We split our users in two equal groups randomly and show them different options for a pre-determined number of trials - and then we decide to go with one of the options for the rest of the time. \n",
        "Note he explicit split into Exploration phase in which we randomly show different arms to observe the reward and the Exploitation phase in which we always play the arm that performed best during the exploration.\n",
        "\n",
        "In reality, there are a few complex additions to how to condut an A/B test properly, like estimating the expected effect size and deciding beforehand how strong the difference in groups has to be for it to be considered valid, and that in turn is used to compute the sample size and... All these problems arise, because classical A/B tests are 'Frequentist' (named after people who believe that probabilities are closely related to frequencies - but: different topic) and thus we need to be careful not to screw up the decision process. We will ignore those extra points for the sake of clarity(2).\n",
        "\n",
        "Below we implement an A/B test.\n",
        "\n",
        "\n",
        "\n",
        "\n",
        "(2)If you're interested, these seem like two good resources to start: \n",
        "- https://towardsdatascience.com/the-art-of-a-b-testing-5a10c9bb70a4\n",
        "- https://blog.hubspot.com/marketing/how-to-do-a-b-testing"
      ]
    },
    {
      "cell_type": "code",
      "metadata": {
        "id": "Qe1YGAzJINfX",
        "colab_type": "code",
        "colab": {}
      },
      "source": [
        "class AB(AbstractSolver):\n",
        "  def __init__(self, n_experiments=1000, num_options=num_options):\n",
        "    self.trials = np.zeros(shape=(num_options,))\n",
        "    self.successes = np.zeros(shape=(num_options,))\n",
        "    self.experiments_done = 0\n",
        "    self.n_experiments = n_experiments\n",
        "\n",
        "\n",
        "\n",
        "  def choose_arm(self):\n",
        "    \"\"\"we choose to either randomly sample an arm \n",
        "    or play the previously determined best choice\"\"\"\n",
        "\n",
        "    # if we need more experimentation, we explore\n",
        "    if self.experiments_done < self.n_experiments:\n",
        "      arm = self.explore()\n",
        "    # otherwise, we exploit\n",
        "    else:\n",
        "      arm = self.exploit()\n",
        "    return arm\n",
        "\n",
        "\n",
        "  def update(self, arm, reward):\n",
        "    \"\"\"Updates the arms about being played and about receiving a reward\"\"\"\n",
        "\n",
        "    # simply count the number of trials and successes for each arm\n",
        "    self.trials[arm] += 1\n",
        "    if reward:\n",
        "      self.successes[arm] += 1\n",
        "    self.experiments_done += 1\n",
        "\n",
        "\n",
        "  def explore(self):\n",
        "    \"\"\"returns arm 0 or arm 1 depending on a draw from interval [0,1]\n",
        "    NOTE: this isn't necessarilyhow you'd do it in real life, \n",
        "    please consult the sources for that case\"\"\"\n",
        "\n",
        "    # literally choose by random which arm to return\n",
        "    if np.random.random() <.5:\n",
        "        return 0\n",
        "    else:\n",
        "        return 1\n",
        "\n",
        "  def exploit(self):\n",
        "    \"\"\"returns arm with highest expected payoff\n",
        "    Always the same arm after exploration phase\"\"\"\n",
        "\n",
        "    # return the arm with the highest success rate\n",
        "    return np.argmax(self.successes/self.trials)\n",
        "  \n"
      ],
      "execution_count": 0,
      "outputs": []
    },
    {
      "cell_type": "code",
      "metadata": {
        "id": "oh1tlU1aM0Wb",
        "colab_type": "code",
        "colab": {}
      },
      "source": [
        "ab = AB(n_experiments=100)"
      ],
      "execution_count": 0,
      "outputs": []
    },
    {
      "cell_type": "code",
      "metadata": {
        "id": "7zZcTbE_NOnA",
        "colab_type": "code",
        "colab": {}
      },
      "source": [
        "np.mean([ab.choose_arm() for x in range(1000)])"
      ],
      "execution_count": 0,
      "outputs": []
    },
    {
      "cell_type": "code",
      "metadata": {
        "id": "1HayauwbM5d1",
        "colab_type": "code",
        "colab": {}
      },
      "source": [
        "ab.update(1,1)"
      ],
      "execution_count": 0,
      "outputs": []
    },
    {
      "cell_type": "code",
      "metadata": {
        "id": "6C2O7UTv7opv",
        "colab_type": "code",
        "colab": {}
      },
      "source": [
        "np.mean([ab.choose_arm() for x in range(1000)])"
      ],
      "execution_count": 0,
      "outputs": []
    },
    {
      "cell_type": "code",
      "metadata": {
        "id": "UhGmoBMFM9RH",
        "colab_type": "code",
        "colab": {}
      },
      "source": [
        ""
      ],
      "execution_count": 0,
      "outputs": []
    },
    {
      "cell_type": "markdown",
      "metadata": {
        "id": "xj0hJh1B7-6_",
        "colab_type": "text"
      },
      "source": [
        "lets feed it 1000 experimental outcomes:"
      ]
    },
    {
      "cell_type": "code",
      "metadata": {
        "id": "mmGWacct8jXw",
        "colab_type": "code",
        "colab": {}
      },
      "source": [
        "for i in range(101):\n",
        "  arm = ab.choose_arm()\n",
        "  reward = customer_reaction(arm,theta=[0.3,0.6])\n",
        "  ab.update(arm,reward)"
      ],
      "execution_count": 0,
      "outputs": []
    },
    {
      "cell_type": "code",
      "metadata": {
        "id": "u2oid16B8BxF",
        "colab_type": "code",
        "colab": {}
      },
      "source": [
        "np.mean([ab.choose_arm() for x in range(500)])"
      ],
      "execution_count": 0,
      "outputs": []
    },
    {
      "cell_type": "markdown",
      "metadata": {
        "id": "WOJ2pMPG83_6",
        "colab_type": "text"
      },
      "source": [
        "As we can see, the experiment is finished, the ab tester will now always return one arm."
      ]
    },
    {
      "cell_type": "markdown",
      "metadata": {
        "id": "gTVJfVCCN--u",
        "colab_type": "text"
      },
      "source": [
        "## Thompson Sampler\n",
        "\n",
        "AB testing has a few drawbacks:\n",
        "\n",
        "What do we do if the difference in our sample isn't large enough to confidently say one is better after the experiment was concluded?\n",
        "\n",
        "What if we chose the number of people we're testing wrong and now instead of using the awesome blue button that seems to perform so much better we are now stuck with showing half of the users the ugly yellow one?! we're good scientists so we won't interrupt the experiment; if we're REALLY good scientist we won't even peek so we DON'T KNOW THAT OUR USERS ARE BEING LED ASTRAY BY OUR EVIL AMBER!\n",
        "\n",
        "What if we realize that we performed our experiment during a time in which, for some reason, the users were not reacting as usually, maybe because everyone is acting irrationally and buying too much toilet paper? NOW WE ARE STUCK WITH THAT DASTARDLY DANDELLION BUTTON!\n",
        "\n",
        "...What if we realize that we actually want to test a red button, too? WAAAAAAAAH!!!!!!!!\n",
        "\n",
        "\n",
        "All these problems arise because we decided to have a clear distinction between exploration and exploitation. First we randomly sample user experiences so we can find out which one works better and then we stick to whatever comes out of that.\n",
        "This leads to us being stuck the phase in which we either collect data from a random process we can't influence or the phase in which we use that information to ~~generate moneyz~~ make sure we offer our users an optimal experience, without being able to incorporate new evidence.\n",
        "\n",
        "Wouldn't it be great if we could do both at the same time? Maybe by **updating the sampling scheme** used during the exploration so it doesn't just return either arm half the time but **increases the chance of seing the button that has been performing better in the past** each time we see it perform better? Wouldn't it be great if we could do that until the end of times because we do not need to decide when to stop the experiment because inherently, the best arm gets played most of the time anyways?\n",
        "\n",
        "Yes that would be great. And we're doing it. It's called Thompson Sampling. \n",
        "\n",
        "\n",
        "\n",
        "\n",
        "\n",
        "\n",
        "\n",
        "\n",
        "\n",
        "Thompson Sampling was invented in 1933 and has been rediscovered a bunch of times since then (source: Wikipedia) because it is so fantastic. \n",
        "It is an inherently Bayesian approach (compared to 'Frequentist' from earlier), which for all intents and purposes means it operates on Probability Distributions rather than point estimates and uses something called a 'Prior'. For deeper discussions, feel free to hit me up on Slack :) \n",
        "\n",
        "\n",
        "![alt](https://image.slidesharecdn.com/atackingthemulti-armed-bandit-problem-slides-190517222554/95/claudia-vicol-solving-the-multi-armed-bandit-problem-codemotion-amsterdam-2019-18-638.jpg?cb=1558132137)\n",
        "\n",
        "\n",
        "Our implementation relies on two methods, again:\n",
        "\n",
        "Choose_arm, which \n",
        "*** for each arm draws from the distribution over the expected rewards*** (this will become easier to understand with the visualisations below!) and compares them to see which one is higher. This is where the 'constant exploration' is: even with very different distributions, sampling will *occasionally* allow for all arms to be played. \n",
        "\n",
        "The Update arm, which observes the reward after playing an arm and updates the distribution of that arm to reflect the new knowledge. This means two things: The distribution will get narrower (unless we have very diverging data) and its mean will move closer to what the model thinks the expected reward of an arm is. \n",
        "\n",
        "If we look back at the choose arm now - a narrower distribution translates into a narrower spread of likely values to be drawn from that distribution. This means - as the Thompson Sampler converges, each arms' sample will get more likely to be around a certain value - and thus the one with the higher expectation will be played more than the others.\n",
        "\n",
        "\n",
        "![alt](data:image/png;base64,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)\n",
        "\n",
        "This means, while we managed to get rid of distinct exploration vs exploitation phases, we have a continuous shift from one to the other, meaning we're going to start exploiting more just as we have enough data to do so. \n",
        "\n",
        "Let's see what that looks like."
      ]
    },
    {
      "cell_type": "code",
      "metadata": {
        "id": "18X6fXUFN-PN",
        "colab_type": "code",
        "colab": {}
      },
      "source": [
        "class BetaBandit(AbstractSolver):\n",
        "\n",
        "    def __init__(self, num_options = 2, prior = None):\n",
        "        \"\"\"initialize BetaBandit\"\"\"\n",
        "        self.num_options = num_options\n",
        "\n",
        "        #setting the prior, either uninformative or user generated\n",
        "        if prior == None:\n",
        "            self.prior = np.ones(shape=(num_options,2))\n",
        "        else:\n",
        "            assert prior.shape == (num_options,2), f\"the prior seems to have wrong dimensionality, please conform to (num_options, 2){(num_options,2)}\"\n",
        "            self.prior = prior\n",
        "\n",
        "        self.trials = np.zeros(shape=(num_options,))\n",
        "        self.successes = np.zeros(shape=(num_options,))\n",
        "\n",
        "\n",
        "    def choose_arm(self):\n",
        "        \"\"\"draw from arms.\n",
        "        arm with the highest expected outcome wins. \n",
        "        expected outcome is determined stochastically, so even an arm with bad \n",
        "        outcome until now will have a chance of being drawn\"\"\"\n",
        "\n",
        "        sampled_theta=[]\n",
        "        for i in range(self.num_options):\n",
        "\n",
        "            dist = stats.beta(self.prior[i,0]+self.successes[i], \n",
        "                              self.prior[i,1]+self.trials[i] - self.successes[i])\n",
        "                \n",
        "            sampled_theta += [dist.rvs()]\n",
        "      \n",
        "        return(sampled_theta.index(max(sampled_theta)))    \n",
        "        \n",
        "    def update(self,arm,success):\n",
        "        \"\"\"update beta-parameters of specific arm\"\"\"\n",
        "        #count times arm has been drawn\"\"\"\n",
        "        self.trials[arm] = self.trials[arm] +1\n",
        "        #count number of successes on that arm\"\"\"\n",
        "\n",
        "        # self.successes = self.successes *.99\n",
        "        if success:\n",
        "            self.successes[arm] = self.successes[arm]+ 1\n",
        "            \n",
        "\n",
        "\n",
        "\n",
        "\n",
        "\n",
        "# Helper functions, non essential\n",
        "\n",
        "\n",
        "    def choose_arm_and_plot(self):\n",
        "\n",
        "\n",
        "        sampled_theta = []\n",
        "        dist_heights = []\n",
        "\n",
        "      \n",
        "        for i in range(self.num_options):\n",
        "\n",
        "            dist = stats.beta(self.prior[i,0]+self.successes[i], \n",
        "                              self.prior[i,1]+self.trials[i] - self.successes[i])\n",
        "            sample = dist.rvs()\n",
        "            sampled_theta += [sample]\n",
        "            dist_heights += [dist.pdf(sample)]\n",
        "\n",
        "            \n",
        "        w = 10\n",
        "        z = 5\n",
        "        colors = iter(cm.rainbow(np.linspace(0, 1, self.num_options)))\n",
        "            \n",
        "        for k,i in enumerate(range(self.num_options)):\n",
        "                color = next(colors)\n",
        "\n",
        "                dist = stats.beta(self.prior[i,0] + self.successes[i],\n",
        "                            self.prior[i,1] + self.trials[i] - self.successes[i])\n",
        "                x = np.linspace(0,1,100)\n",
        "                y = dist.pdf(x)\n",
        "                plt.plot(x,y,color=color,label=\"arm #%i\"%(i+1),alpha=0.8)\n",
        "\n",
        "                plt.scatter(sampled_theta[i],dist_heights[i], s = 200,label=f'sample drawn from arm {i}')\n",
        "\n",
        "                plt.fill_between(x,0,y,alpha=1/(self.num_options+1),color=color)\n",
        "                leg = plt.legend()\n",
        "                plt.tight_layout    \n",
        "      \n",
        "        return(sampled_theta.index(max(sampled_theta)))  \n",
        "\n",
        "\n",
        "    def plot_betas(self):\n",
        "        \"\"\"plot the distributions that underly the arms\"\"\"\n",
        "        \n",
        "        w = 10\n",
        "        z = 5\n",
        "        colors = iter(cm.rainbow(np.linspace(0, 1, self.num_options)))\n",
        "            \n",
        "        for k,i in enumerate(range(self.num_options)):\n",
        "                color = next(colors)\n",
        "\n",
        "                dist = stats.beta(self.prior[i,0] + self.successes[i],\n",
        "                            self.prior[i,1] + self.trials[i] - self.successes[i])\n",
        "                x = np.linspace(0,1,100)\n",
        "                y = dist.pdf(x)\n",
        "                plt.plot(x,y,color=color,label=\"arm #%i\"%(i+1))\n",
        "                plt.fill_between(x,0,y,alpha=1/self.num_options,color=color)\n",
        "                leg = plt.legend()\n",
        "                plt.tight_layout\n"
      ],
      "execution_count": 0,
      "outputs": []
    },
    {
      "cell_type": "markdown",
      "metadata": {
        "id": "raXaD6g23trf",
        "colab_type": "text"
      },
      "source": [
        "As we can see, the explicit distinction in explore and exploit is gone, replaced by a distribution that starts out as 50-50 but updates itself to choose the optimal arm more often with each observed sample. \n",
        "Let's see what that looks like:"
      ]
    },
    {
      "cell_type": "code",
      "metadata": {
        "id": "2m1z4NNi6bX3",
        "colab_type": "code",
        "colab": {}
      },
      "source": [
        "bb = BetaBandit()\n",
        "\n"
      ],
      "execution_count": 0,
      "outputs": []
    },
    {
      "cell_type": "code",
      "metadata": {
        "id": "N3MFMSZy6emI",
        "colab_type": "code",
        "colab": {}
      },
      "source": [
        "np.mean([bb.choose_arm() for x in range(100)])"
      ],
      "execution_count": 0,
      "outputs": []
    },
    {
      "cell_type": "code",
      "metadata": {
        "id": "raA0bfWs6rsu",
        "colab_type": "code",
        "colab": {}
      },
      "source": [
        "bb.choose_arm_and_plot() #uniform binomials, no observations yet"
      ],
      "execution_count": 0,
      "outputs": []
    },
    {
      "cell_type": "code",
      "metadata": {
        "id": "pcn44Z7q6ej3",
        "colab_type": "code",
        "colab": {}
      },
      "source": [
        "bb.update(0,0)\n",
        "bb.update(0,1)\n",
        "bb.update(0,1)"
      ],
      "execution_count": 0,
      "outputs": []
    },
    {
      "cell_type": "code",
      "metadata": {
        "id": "rxUWNC4-6wAC",
        "colab_type": "code",
        "colab": {}
      },
      "source": [
        "np.mean([bb.choose_arm() for x in range(100)])"
      ],
      "execution_count": 0,
      "outputs": []
    },
    {
      "cell_type": "code",
      "metadata": {
        "id": "ArUDMbq76wD3",
        "colab_type": "code",
        "colab": {}
      },
      "source": [
        "bb.choose_arm_and_plot()"
      ],
      "execution_count": 0,
      "outputs": []
    },
    {
      "cell_type": "code",
      "metadata": {
        "id": "gKl_28aYUBN0",
        "colab_type": "code",
        "colab": {}
      },
      "source": [
        "bb.choose_arm_and_plot()"
      ],
      "execution_count": 0,
      "outputs": []
    },
    {
      "cell_type": "code",
      "metadata": {
        "id": "BIrGdSKtUYBU",
        "colab_type": "code",
        "colab": {}
      },
      "source": [
        "bb.choose_arm_and_plot()"
      ],
      "execution_count": 0,
      "outputs": []
    },
    {
      "cell_type": "code",
      "metadata": {
        "id": "B1Wdkb_OUX-T",
        "colab_type": "code",
        "colab": {}
      },
      "source": [
        ""
      ],
      "execution_count": 0,
      "outputs": []
    },
    {
      "cell_type": "code",
      "metadata": {
        "id": "jYas27I260Lh",
        "colab_type": "code",
        "colab": {}
      },
      "source": [
        "bb.update(1,0)\n",
        "bb.update(1,0)\n",
        "bb.update(1,0)"
      ],
      "execution_count": 0,
      "outputs": []
    },
    {
      "cell_type": "code",
      "metadata": {
        "id": "koT8GHnT63v4",
        "colab_type": "code",
        "colab": {}
      },
      "source": [
        "np.mean([bb.choose_arm() for x in range(100)])"
      ],
      "execution_count": 0,
      "outputs": []
    },
    {
      "cell_type": "code",
      "metadata": {
        "id": "8Bmlw1Im63t0",
        "colab_type": "code",
        "colab": {}
      },
      "source": [
        "bb.choose_arm_and_plot()"
      ],
      "execution_count": 0,
      "outputs": []
    },
    {
      "cell_type": "code",
      "metadata": {
        "id": "EEsLb8FW7Uai",
        "colab_type": "code",
        "colab": {}
      },
      "source": [
        "bb.choose_arm_and_plot()"
      ],
      "execution_count": 0,
      "outputs": []
    },
    {
      "cell_type": "markdown",
      "metadata": {
        "id": "lFHNe5B07UrW",
        "colab_type": "text"
      },
      "source": [
        "# Lets do this a bit more structured"
      ]
    },
    {
      "cell_type": "code",
      "metadata": {
        "id": "eTrB_MKJ2hy2",
        "colab_type": "code",
        "colab": {}
      },
      "source": [
        "#bb = BetaBandit()"
      ],
      "execution_count": 0,
      "outputs": []
    },
    {
      "cell_type": "code",
      "metadata": {
        "id": "wlwlAzCl4g7f",
        "colab_type": "code",
        "colab": {}
      },
      "source": [
        "\n",
        "\n",
        "for i in range(250):\n",
        "  if i in [0,1,2,5,10,25,35,50,75,100,250]:\n",
        "    plt.figure()\n",
        "    arm = bb.choose_arm_and_plot()\n",
        "  else:\n",
        "    arm = bb.choose_arm()\n",
        "  reward = customer_reaction(arm,theta=[0.3,0.6])\n",
        "  bb.update(arm,reward)\n",
        "\n"
      ],
      "execution_count": 0,
      "outputs": []
    },
    {
      "cell_type": "code",
      "metadata": {
        "id": "9uCT6OJv4UWr",
        "colab_type": "code",
        "colab": {}
      },
      "source": [
        ""
      ],
      "execution_count": 0,
      "outputs": []
    },
    {
      "cell_type": "markdown",
      "metadata": {
        "id": "Pu7OGnsjb9Yc",
        "colab_type": "text"
      },
      "source": [
        ""
      ]
    },
    {
      "cell_type": "code",
      "metadata": {
        "id": "fzBo0h1bN-dA",
        "colab_type": "code",
        "colab": {}
      },
      "source": [
        "np.mean([bb.choose_arm() for x in range(100)])"
      ],
      "execution_count": 0,
      "outputs": []
    },
    {
      "cell_type": "code",
      "metadata": {
        "id": "VjKluRY69YH6",
        "colab_type": "code",
        "colab": {}
      },
      "source": [
        ""
      ],
      "execution_count": 0,
      "outputs": []
    },
    {
      "cell_type": "markdown",
      "metadata": {
        "id": "b-6ngs9v9YgG",
        "colab_type": "text"
      },
      "source": [
        "# Evaluating AB test and Thompson Sampler\n",
        "\n",
        "To test the performance of Our models, we need to introduce two concepts: the virtual customer, a program that makes probabilistic decisions based on values we might see in the real world,\n",
        "and regret. \n",
        "Regret is the mathematical notion of 'what would have happened had I always chosen perfectly', and I'm sure most of you understand that concept on a carnal level."
      ]
    },
    {
      "cell_type": "code",
      "metadata": {
        "id": "gbLWX2Rh-E-7",
        "colab_type": "code",
        "colab": {}
      },
      "source": [
        "def run_experiment(app, num_experiments=N,theta=theta):\n",
        "    \n",
        "    \n",
        "    arms = []\n",
        "    outcomes = []\n",
        "    \n",
        "    for i in range(num_experiments):\n",
        "        \n",
        "        arm = app.choose_arm()\n",
        "        arms += [arm]\n",
        "        outcome = customer_reaction(arm)\n",
        "        outcomes += [outcome]\n",
        "        app.update(arm,outcome)\n",
        "        \n",
        "    regret = np.sum(np.ones(shape=(num_experiments,))*theta[best_arm]- outcomes )\n",
        "    cumulative_regret = np.cumsum( np.ones(shape=(num_experiments,))*theta[best_arm] -outcomes )\n",
        "\n",
        "\n",
        "    return regret, cumulative_regret"
      ],
      "execution_count": 0,
      "outputs": []
    },
    {
      "cell_type": "code",
      "metadata": {
        "id": "wZwbYIRmAIYZ",
        "colab_type": "code",
        "colab": {}
      },
      "source": [
        "def plot_cumulative_regret(cumulative_regret,app):\n",
        "  plt.plot(cumulative_regret,label='regret')#is_conversion(best_arm,_bool=False)))\n",
        "  plt.title(str(type(app)))\n",
        "  leg = plt.legend()\n",
        "  plt.tight_layout()\n",
        "  plt.show()"
      ],
      "execution_count": 0,
      "outputs": []
    },
    {
      "cell_type": "code",
      "metadata": {
        "id": "Gq7yJhcTAYpN",
        "colab_type": "code",
        "colab": {}
      },
      "source": [
        "ab = AB()\n",
        "bb = BetaBandit()\n",
        "\n",
        "for app in [ab,bb]:\n",
        "  regret, cumulative_regret = run_experiment(app,num_experiments=1000)\n",
        "  plot_cumulative_regret(cumulative_regret, app)"
      ],
      "execution_count": 0,
      "outputs": []
    },
    {
      "cell_type": "code",
      "metadata": {
        "id": "1NBYsiANBKyu",
        "colab_type": "code",
        "colab": {}
      },
      "source": [
        "ab = AB()\n",
        "bb = BetaBandit()\n",
        "\n",
        "for app in [ab,bb]:\n",
        "  regret, cumulative_regret = run_experiment(app,num_experiments=2000)\n",
        "  plot_cumulative_regret(cumulative_regret, app)"
      ],
      "execution_count": 0,
      "outputs": []
    },
    {
      "cell_type": "code",
      "metadata": {
        "id": "IbKFTm1jcKBY",
        "colab_type": "code",
        "colab": {}
      },
      "source": [
        "ab = AB()\n",
        "bb = BetaBandit()\n",
        "\n",
        "for app in [ab,bb]:\n",
        "  regret, cumulative_regret = run_experiment(app,num_experiments=5000)\n",
        "  plot_cumulative_regret(cumulative_regret, app)"
      ],
      "execution_count": 0,
      "outputs": []
    },
    {
      "cell_type": "markdown",
      "metadata": {
        "id": "1gKo4fDp9vXj",
        "colab_type": "text"
      },
      "source": [
        "![alt](data:image/jpeg;base64,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)"
      ]
    },
    {
      "cell_type": "markdown",
      "metadata": {
        "id": "n6q9h3tPB3eR",
        "colab_type": "text"
      },
      "source": [
        ""
      ]
    },
    {
      "cell_type": "code",
      "metadata": {
        "id": "LGbSTKpIBK_Z",
        "colab_type": "code",
        "colab": {}
      },
      "source": [
        "ab = AB(100)\n",
        "bb = BetaBandit()\n",
        "\n",
        "for app in [ab,bb]:\n",
        "  regret, cumulative_regret = run_experiment(app,num_experiments=200)\n",
        "  plot_cumulative_regret(cumulative_regret, app)"
      ],
      "execution_count": 0,
      "outputs": []
    },
    {
      "cell_type": "code",
      "metadata": {
        "id": "Umed035xCADg",
        "colab_type": "code",
        "colab": {}
      },
      "source": [
        ""
      ],
      "execution_count": 0,
      "outputs": []
    },
    {
      "cell_type": "code",
      "metadata": {
        "id": "fHDUPgdrB2XI",
        "colab_type": "code",
        "colab": {}
      },
      "source": [
        ""
      ],
      "execution_count": 0,
      "outputs": []
    },
    {
      "cell_type": "code",
      "metadata": {
        "id": "gu4y9VqP9A_s",
        "colab_type": "code",
        "colab": {}
      },
      "source": [
        ""
      ],
      "execution_count": 0,
      "outputs": []
    },
    {
      "cell_type": "code",
      "metadata": {
        "id": "Z10DGBD69ioI",
        "colab_type": "code",
        "colab": {}
      },
      "source": [
        ""
      ],
      "execution_count": 0,
      "outputs": []
    },
    {
      "cell_type": "code",
      "metadata": {
        "id": "Yw2DhziX-Nyt",
        "colab_type": "code",
        "colab": {}
      },
      "source": [
        "test_application(bb,True)"
      ],
      "execution_count": 0,
      "outputs": []
    },
    {
      "cell_type": "markdown",
      "metadata": {
        "id": "bxqseYqCWufe",
        "colab_type": "text"
      },
      "source": [
        "# Next time: Evaluation of different bandit algorithms\n",
        "\n",
        "# Next Next time: Contextual Thompson Sampling\n",
        "\n",
        "Remember how we said \"Adding context to our experiment is simple\"?\n",
        "\n",
        "Imagine we want to test if thebackground color is impacting the choice of button. In most frameworks, these would have to be competing experiments (blue button AND white Background vs blue button AND black background vs yellow button AND white background vs blue button vs black background), which lead to combinatorial explosion REALLY quickly (practical example: I will not write this out for any more cases because it's tedious). In Thompson Sampling, we can simply use a model to predict a distribution over the vector [button_color, background_color] and use that to keep doing our experiment. This also means that experimentation and personalization converge at some Point. BUT MORE ON THAT NEXT TIME"
      ]
    },
    {
      "cell_type": "markdown",
      "metadata": {
        "id": "kBduEhbLEgVK",
        "colab_type": "text"
      },
      "source": [
        "## A/B Testing\n",
        "\n",
        "## Epsilon Greedy\n",
        "\n",
        "## UCB\n",
        "\n",
        "## Thompson Sampling"
      ]
    },
    {
      "cell_type": "markdown",
      "metadata": {
        "id": "RbUMGd8467EB",
        "colab_type": "text"
      },
      "source": [
        "\n",
        "The idea behind Thompson Sampling is as simple as it is genius:\n",
        "\n",
        "***We sample an action based on how likely it is to be optimal given our current state of knowledge.***\n",
        "\n",
        "Let's deconstruct that statement:\n",
        "1. we have observed previous plays with yellow and blue buttons. The yellow ones have so far on average lead to 1/10 clicks, while blue lead to 2/10 click through rate. \n",
        "2. Instead of either going with the winner or declaring the outcome inconclusive as we'd do with A/B tests, we sample from a probability distribution derived from the past observations and play the arm with the higher sampled prediction\n",
        "\n",
        "This, in a way, combines the exploration and the exploitation phase of our AB test: The AB test took a random sample from a rigid distribution during it's exploration phase and then used a hard rule in it's exploitation phase that used the previously encountered evidence to optimize the decision. \n",
        "Instead of doing that, we just keep exploring and simply agument the distributions we are sampling from, ad infinitum. This means that Thompson Sampler has several benefits:\n",
        "\n",
        "1. no end (the distributions will keep updating themselves, we don't need to end the test)\n",
        "2. self correcting (assume it's now winter and people don't click the yellow button any more - the distributions will shift until the blue button is now being played more often)\n",
        "3. we can use prior information to minimize business regret (if we have a strong suspicion that the yellow button is more likely to yield a click, we can just give it a more favorable prior distribution - if we're wrong we won't lose too much, see self-correction)\n",
        "4. converges quicker than AB test (Thompson Sampling usually starts playing the dominant arm quicker) - this leads to minimized regret!\n",
        "5. We can add new arms whenever we feel like it (let's try out a red button!)\n",
        "6. Adding context to our experiment is simple. \n",
        "\n",
        "\n",
        "\n",
        " is to choose the action relative to the probability of it being the optimal choice"
      ]
    },
    {
      "cell_type": "code",
      "metadata": {
        "id": "LE56BRbNDD2F",
        "colab_type": "code",
        "colab": {}
      },
      "source": [
        "\n",
        "The idea behind Thompson Sampling is as simple as it is genius:\n",
        "\n",
        "***We sample an action based on how likely it is to be optimal given our current state of knowledge.***\n",
        "\n",
        "Let's deconstruct that statement:\n",
        "1. we have observed previous plays with yellow and blue buttons. The yellow ones have so far on average lead to 1/10 clicks, while blue lead to 2/10 click through rate. \n",
        "2. Instead of either going with the winner or declaring the outcome inconclusive as we'd do with A/B tests, we sample from a probability distribution derived from the past observations and play the arm with the higher sampled prediction\n",
        "\n",
        "This, in a way, combines the exploration and the exploitation phase of our AB test: The AB test took a random sample from a rigid distribution during it's exploration phase and then used a hard rule in it's exploitation phase that used the previously encountered evidence to optimize the decision. \n",
        "Instead of doing that, we just keep exploring and simply agument the distributions we are sampling from, ad infinitum. This means that Thompson Sampler has several benefits:\n",
        "\n",
        "1. no end (the distributions will keep updating themselves, we don't need to end the test)\n",
        "2. self correcting (assume it's now winter and people don't click the yellow button any more - the distributions will shift until the blue button is now being played more often)\n",
        "3. we can use prior information to minimize business regret (if we have a strong suspicion that the yellow button is more likely to yield a click, we can just give it a more favorable prior distribution - if we're wrong we won't lose too much, see self-correction)\n",
        "4. converges quicker than AB test (Thompson Sampling usually starts playing the dominant arm quicker) - this leads to minimized regret!\n",
        "5. We can add new arms whenever we feel like it (let's try out a red button!)\n",
        "6. Adding context to our experiment is simple. \n",
        "\n",
        "\n",
        "\n",
        " is to choose the action relative to the probability of it being the optimal choice"
      ],
      "execution_count": 0,
      "outputs": []
    },
    {
      "cell_type": "code",
      "metadata": {
        "id": "ebrb6lITDE2T",
        "colab_type": "code",
        "colab": {}
      },
      "source": [
        ""
      ],
      "execution_count": 0,
      "outputs": []
    }
  ]
}